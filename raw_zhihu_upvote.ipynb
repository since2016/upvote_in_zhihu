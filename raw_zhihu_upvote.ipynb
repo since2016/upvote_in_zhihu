{
 "cells": [
  {
   "cell_type": "code",
   "execution_count": 358,
   "metadata": {},
   "outputs": [
    {
     "name": "stdout",
     "output_type": "stream",
     "text": [
      "使用 ip： 121.233.251.80:4364 \n"
     ]
    }
   ],
   "source": [
    "from selenium import webdriver\n",
    "from selenium.webdriver import Chrome\n",
    "from selenium.webdriver import ChromeOptions\n",
    "\n",
    "ip_proxy = '121.233.251.80:4364'\n",
    "option = ChromeOptions()\n",
    "print(\"使用 ip： %s \" %ip_proxy)\n",
    "# option.add_argument(\"--proxy-server=http://\"+ip_proxy)\n",
    "option.add_experimental_option('excludeSwitches', ['enable-automation'])\n",
    "driver = Chrome(options=option)\n",
    "driver.get(\"https://www.zhihu.com/signin?next=%2F\")\n",
    "driver.set_window_size(1300, 1000)\n",
    "driver.implicitly_wait(10) #未测试是否需要等待"
   ]
  },
  {
   "cell_type": "code",
   "execution_count": 359,
   "metadata": {},
   "outputs": [],
   "source": [
    "num = '13222026288'\n",
    "password = '3096346zhzhandy'\n",
    "## 输入手机号和密码\n",
    "phoneno = driver.find_element_by_xpath('/html/body/div[1]/div/main/div/div/div/div[2]/div[1]/form/div[1]/div[2]/div[1]/input')\n",
    "phoneno.clear()\n",
    "phoneno.send_keys(num) #输入号码\n",
    "driver.implicitly_wait(10) #未测试是否需要等待\n",
    "pwd = driver.find_element_by_xpath('/html/body/div[1]/div/main/div/div/div/div[2]/div[1]/form/div[2]/div/div[1]/input')\n",
    "pwd.clear()\n",
    "driver.implicitly_wait(10) #未测试是否需要等待\n",
    "\n",
    "\n"
   ]
  },
  {
   "cell_type": "code",
   "execution_count": 360,
   "metadata": {},
   "outputs": [],
   "source": [
    "pwd.send_keys(password)\n",
    "driver.implicitly_wait(10) #未测试是否需要等待\n",
    "\n",
    "if '安全验证'.decode('utf-8') in driver.page_source:\n",
    "    print(\"需要换一个账号登陆了。。。。\")\n",
    "    driver.quit()\n",
    "\n",
    "login_botton = driver.find_element_by_xpath(\"/html/body/div[1]/div/main/div/div/div/div[2]/div[1]/form/button\")\n",
    "login_botton.click()\n",
    "driver.implicitly_wait(10) #未测试是否需要等待\n",
    "\n"
   ]
  },
  {
   "cell_type": "code",
   "execution_count": 361,
   "metadata": {},
   "outputs": [],
   "source": [
    "# -*- encoding: UTF-8 -*-\n",
    "import time\n",
    "str = '简单介绍自己，会为你挑选你可能感兴趣的话题'\n",
    "def sleep(second):\n",
    "    #  睡眠并打印倒数\n",
    "    print(\"进入休息,%d秒\" % second)\n",
    "    if second <= 3:\n",
    "        time.sleep(3)\n",
    "        return 0\n",
    "    for i in range(second):\n",
    "        print(second-i)\n",
    "        time.sleep(1)\n",
    "        \n",
    "if str in driver.page_source.encode('utf-8'):\n",
    "    job_input_elem = driver.find_element_by_xpath('//*[@id=\"root\"]/div/main/div/div/div[2]/div/div[2]/div[1]/div/input')\n",
    "    job_input_elem.clear()\n",
    "    job = \"我是医生\".decode('utf-8')\n",
    "    job_input_elem.send_keys(job)\n",
    "    job_subit = driver.find_element_by_xpath('//*[@id=\"root\"]/div/main/div/div/div[2]/div/div[2]/div[1]/button')\n",
    "    job_subit.click()\n",
    "    sleep(1)\n"
   ]
  },
  {
   "cell_type": "code",
   "execution_count": 362,
   "metadata": {},
   "outputs": [],
   "source": [
    "if '我们将根据你关注的话题定制首页推荐内容' in driver.page_source.encode('utf-8'):\n",
    "    driver.find_element_by_xpath('//*[@id=\"root\"]/div/main/div/div/div[2]/div/div[1]/div[2]/ul/li[4]/div/span[2]').click()\n",
    "    driver.find_element_by_xpath('//*[@id=\"root\"]/div/main/div/div/div[2]/div/div[2]/button').click()"
   ]
  },
  {
   "cell_type": "code",
   "execution_count": 363,
   "metadata": {},
   "outputs": [],
   "source": [
    "input= driver.find_element_by_xpath('//*[@id=\"Popover7-toggle\"]')\n",
    "\n",
    "input.clear()\n",
    "str = \"罗竹影\".decode('utf-8')\n",
    "input.send_keys(str)\n",
    "search_button = driver.find_element_by_xpath('//*[@id=\"root\"]/div/div[2]/header/div[1]/div[1]/div/form/div/div/div/div/button')\n",
    "search_button.click()\n",
    "\n"
   ]
  },
  {
   "cell_type": "code",
   "execution_count": 364,
   "metadata": {},
   "outputs": [
    {
     "name": "stdout",
     "output_type": "stream",
     "text": [
      "进入休息,2秒\n"
     ]
    },
    {
     "data": {
      "text/plain": [
       "0"
      ]
     },
     "execution_count": 364,
     "metadata": {},
     "output_type": "execute_result"
    }
   ],
   "source": [
    "sleep(2)"
   ]
  },
  {
   "cell_type": "code",
   "execution_count": 365,
   "metadata": {},
   "outputs": [],
   "source": [
    "guanzhu_button = driver.find_element_by_xpath('//*[@id=\"SearchMain\"]/div/div/div/div/div[1]/div/div/div/div[3]/button')\n",
    "guanzhu_button.click()\n",
    "driver.implicitly_wait(10) #未测试是否需要等待"
   ]
  },
  {
   "cell_type": "code",
   "execution_count": 366,
   "metadata": {},
   "outputs": [],
   "source": [
    "# ## 阅读全文\n",
    "# driver.find_element_by_xpath('//*[@id=\"SearchMain\"]/div/div/div/div/div[15]/div/div/div/div[1]/button').click()\n",
    "# driver.implicitly_wait(10) #未测试是否需要等待"
   ]
  },
  {
   "cell_type": "code",
   "execution_count": 367,
   "metadata": {},
   "outputs": [],
   "source": [
    "# # 感谢\n",
    "# driver.find_element_by_xpath('//*[@id=\"SearchMain\"]/div/div/div/div/div[15]/div/div/div/div[4]/div/button[3]').click()\n",
    "# driver.implicitly_wait(10) #未测试是否需要等待\n",
    "# ## 赞同\n",
    "# driver.find_element_by_xpath('//*[@id=\"SearchMain\"]/div/div/div/div/div[15]/div/div/div/div[4]/div/span/button[1]').click()"
   ]
  },
  {
   "cell_type": "code",
   "execution_count": 368,
   "metadata": {},
   "outputs": [],
   "source": [
    "## 所有回答\n",
    "link = driver.find_element_by_class_name('Search-statusLink')\n",
    "link.click()"
   ]
  },
  {
   "cell_type": "code",
   "execution_count": 369,
   "metadata": {
    "scrolled": true
   },
   "outputs": [
    {
     "name": "stdout",
     "output_type": "stream",
     "text": [
      "赞同 1K\n",
      "已赞同 1K\n",
      "进入休息,3秒\n",
      "赞同 17\n",
      "已赞同 18\n",
      "进入休息,3秒\n",
      "赞同 1.9K\n",
      "已赞同 1.9K\n",
      "进入休息,3秒\n",
      "赞同 30\n",
      "已赞同 31\n",
      "进入休息,3秒\n",
      "赞同 17\n",
      "已赞同 18\n",
      "进入休息,3秒\n",
      "赞同 531\n",
      "已赞同 532\n",
      "进入休息,3秒\n",
      "赞同 9\n",
      "已赞同 10\n",
      "进入休息,3秒\n",
      "赞同 57\n",
      "已赞同 58\n",
      "进入休息,3秒\n",
      "赞同 151\n",
      "已赞同 152\n",
      "进入休息,3秒\n",
      "赞同 6\n",
      "已赞同 7\n",
      "进入休息,3秒\n",
      "赞同 30\n",
      "已赞同 31\n",
      "进入休息,3秒\n",
      "赞同 23\n",
      "已赞同 24\n",
      "进入休息,3秒\n",
      "赞同 41\n",
      "已赞同 42\n",
      "进入休息,3秒\n",
      "赞同 161\n",
      "已赞同 162\n",
      "进入休息,3秒\n",
      "赞同 2\n",
      "已赞同 3\n",
      "进入休息,3秒\n",
      "赞同 14\n",
      "已赞同 15\n",
      "进入休息,3秒\n",
      "赞同 10\n",
      "已赞同 11\n",
      "进入休息,3秒\n",
      "赞同 2\n",
      "已赞同 3\n",
      "进入休息,3秒\n",
      "赞同 94\n",
      "已赞同 95\n",
      "进入休息,3秒\n",
      "赞同 2\n",
      "已赞同 3\n",
      "进入休息,3秒\n",
      "赞同 5\n",
      "已赞同 6\n",
      "进入休息,3秒\n",
      "赞同 169\n",
      "已赞同 170\n",
      "进入休息,3秒\n",
      "赞同 34\n",
      "已赞同 35\n",
      "进入休息,3秒\n",
      "赞同 10\n",
      "已赞同 11\n",
      "进入休息,3秒\n",
      "赞同 45\n",
      "已赞同 46\n",
      "进入休息,3秒\n",
      "赞同 8\n",
      "已赞同 9\n",
      "进入休息,3秒\n",
      "赞同 5\n",
      "已赞同 6\n",
      "进入休息,3秒\n",
      "赞同 4\n",
      "已赞同 5\n",
      "进入休息,3秒\n",
      "赞同 1.3K\n",
      "已赞同 1.3K\n",
      "进入休息,3秒\n",
      "赞同 23\n",
      "已赞同 24\n",
      "进入休息,3秒\n",
      "赞同 17\n",
      "已赞同 18\n",
      "进入休息,3秒\n",
      "赞同 2\n",
      "已赞同 3\n",
      "进入休息,3秒\n"
     ]
    }
   ],
   "source": [
    "up_buttons = driver.find_elements_by_class_name('VoteButton--up')\n",
    "# thanks_buttons = drive.find_element_by_class_name('Button ContentItem-action Button--plain Button--withIcon Button--withLabel')\n",
    "\n",
    "# print(len(up_buttons))\n",
    "for ub in up_buttons:\n",
    "    if 'is-active' not in ub.get_attribute('class'):\n",
    "        print ub.get_attribute('aria-label')\n",
    "        ub.click()\n",
    "        driver.implicitly_wait(20) #未测试是否需要等待\n",
    "        print ub.get_attribute('aria-label')\n",
    "        sleep(3)\n",
    "    "
   ]
  },
  {
   "cell_type": "code",
   "execution_count": 370,
   "metadata": {},
   "outputs": [],
   "source": [
    "driver.quit()"
   ]
  },
  {
   "cell_type": "code",
   "execution_count": null,
   "metadata": {},
   "outputs": [],
   "source": []
  }
 ],
 "metadata": {
  "kernelspec": {
   "display_name": "Python 2",
   "language": "python",
   "name": "python2"
  },
  "language_info": {
   "codemirror_mode": {
    "name": "ipython",
    "version": 2
   },
   "file_extension": ".py",
   "mimetype": "text/x-python",
   "name": "python",
   "nbconvert_exporter": "python",
   "pygments_lexer": "ipython2",
   "version": "2.7.14"
  }
 },
 "nbformat": 4,
 "nbformat_minor": 2
}
